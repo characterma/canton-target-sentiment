{
 "cells": [
  {
   "cell_type": "code",
   "execution_count": 231,
   "id": "bcb17e6f-677d-4926-9128-81883a9b6852",
   "metadata": {},
   "outputs": [],
   "source": [
    "import json\n",
    "import numpy as np\n",
    "import random\n",
    "\n",
    "from pathlib import Path\n",
    "from sklearn.feature_extraction.text import TfidfVectorizer\n"
   ]
  },
  {
   "cell_type": "code",
   "execution_count": 232,
   "id": "8c15741a-2398-4d80-97b7-f9cc8c9687f1",
   "metadata": {},
   "outputs": [],
   "source": [
    "dataset = 'imdb'"
   ]
  },
  {
   "cell_type": "code",
   "execution_count": 233,
   "id": "e6642dc4-7448-4415-8c65-49fcca363155",
   "metadata": {},
   "outputs": [],
   "source": [
    "\n",
    "data_dir = Path(f\"../../data/datasets/public/sequence_classification/{dataset}/\")\n",
    "data = json.load(open(data_dir / 'train.json', 'r'))\n",
    "random.shuffle(data)\n",
    "for x in data:\n",
    "    x['content'] = x['content'].lower()"
   ]
  },
  {
   "cell_type": "code",
   "execution_count": 234,
   "id": "9cb82620-6ffc-4c2a-8c94-8acf76a2b148",
   "metadata": {},
   "outputs": [],
   "source": [
    "data_neg = [x for x in data if x['label']=='negative']\n",
    "data_pos = [x for x in data if x['label']=='positive']"
   ]
  },
  {
   "cell_type": "code",
   "execution_count": 237,
   "id": "ab954b1c-be74-4432-9829-d58e3cef25b9",
   "metadata": {},
   "outputs": [],
   "source": [
    "data_train = data_neg[:20] + data_pos[:20]\n",
    "data_unlabeled = data_neg[20:] + data_pos[20:]\n",
    "random.shuffle(data_train)\n",
    "random.shuffle(data_unlabeled)\n",
    "\n",
    "corpus = []\n",
    "for x in data_unlabeled:\n",
    "    corpus.append(x['content'])"
   ]
  },
  {
   "cell_type": "code",
   "execution_count": 239,
   "id": "aa158268-ff1b-4400-b913-a997a030128f",
   "metadata": {},
   "outputs": [],
   "source": []
  },
  {
   "cell_type": "code",
   "execution_count": 259,
   "id": "0995c7a2-ff14-4ece-ae08-7504e382493d",
   "metadata": {
    "tags": []
   },
   "outputs": [],
   "source": [
    "class TfidfDA:\n",
    "    def __init__(self, corpus, p=0.5):\n",
    "        self.p = p\n",
    "        self.vectorizer = TfidfVectorizer(token_pattern=r\"(?u)\\b\\w+\\b\")\n",
    "        self.corpus = corpus\n",
    "        self.X = self.vectorizer.fit_transform(\n",
    "            corpus,\n",
    "        )\n",
    "        self._idx_to_word = self.vectorizer.get_feature_names()\n",
    "        \n",
    "        self.word_freq = {}\n",
    "        for i in range(self.X.shape[0]):\n",
    "            for j in self.X[i, :].indices:\n",
    "                if self.word_freq.get(j):\n",
    "                    self.word_freq[j] += 1\n",
    "                else:\n",
    "                    self.word_freq[j] = 1\n",
    "        self.S = []\n",
    "        for i in range(self.X.shape[0]):\n",
    "            self.S.append(self.word_freq[i] * self.get_idf(i))\n",
    "\n",
    "        self.S = np.array(self.S)\n",
    "        self.S = self.S.max() - self.S\n",
    "        self.S = self.S / self.S.sum()\n",
    "\n",
    "    def idx_to_word(self, idx):\n",
    "        return self._idx_to_word[idx]\n",
    "    \n",
    "    def word_to_idx(self, w):\n",
    "        return self.vectorizer.vocabulary_[w]\n",
    "    \n",
    "    def get_idf(self, idx):\n",
    "        return self.vectorizer.idf_[idx]\n",
    "    \n",
    "    def get_replacement_word(self):\n",
    "        return np.random.choice(\n",
    "            a=range(self.X.shape[0]), \n",
    "            p=self.S\n",
    "        )\n",
    "    \n",
    "    def transform(self):\n",
    "        \n",
    "        data = []\n",
    "        for i in range(self.X.shape[0]):\n",
    "            r = self.X[i, :]\n",
    "            x = r.data\n",
    "            z = x.max() - x\n",
    "            z = self.p * z / (z.mean())\n",
    "            z = np.minimum(z, 1)\n",
    "            \n",
    "            idx_to_idx = dict()\n",
    "            for j, replace in enumerate(z >= np.random.rand(len(z))):\n",
    "                if replace:\n",
    "                    w = self.get_replacement_word()\n",
    "                    idx_to_idx[r.indices[j]] = w\n",
    "                    \n",
    "            sent = []\n",
    "            # print(idx_to_idx)\n",
    "            for m in re.finditer(self.vectorizer.token_pattern, self.corpus[i]):\n",
    "                w = m.group()\n",
    "                idx = self.word_to_idx(w)\n",
    "                \n",
    "                if idx_to_idx.get(idx):\n",
    "                    idx = idx_to_idx[idx]\n",
    "                    w = self.idx_to_word(idx)\n",
    "                sent.append(w)\n",
    "                    \n",
    "            data.append(\n",
    "                \" \".join(sent)\n",
    "            )\n",
    "        return data\n",
    "        \n"
   ]
  },
  {
   "cell_type": "code",
   "execution_count": 260,
   "id": "68d3655f-f52c-4218-a574-31e2fc237c60",
   "metadata": {},
   "outputs": [],
   "source": [
    "p = 0.08"
   ]
  },
  {
   "cell_type": "code",
   "execution_count": 261,
   "id": "e1b7e41b-c70f-403c-ae46-c71162f7c0c4",
   "metadata": {
    "tags": []
   },
   "outputs": [],
   "source": [
    "da = TfidfDA(corpus, p=p)\n",
    "data_da = da.transform()\n",
    "p_str = str(p).replace('.', '')\n",
    "for i in range(len(data_unlabeled)):\n",
    "    data_unlabeled[i][f'content_da'] = data_da[i]"
   ]
  },
  {
   "cell_type": "code",
   "execution_count": 262,
   "id": "170774e9-1e6b-4f2b-a94f-99e6c7a3f730",
   "metadata": {},
   "outputs": [],
   "source": [
    "json.dump(data_train, open(data_dir / 'train_uda.json', 'w'))\n",
    "json.dump(data_unlabeled, open(data_dir / 'unlabeled_uda.json', 'w'))"
   ]
  },
  {
   "cell_type": "code",
   "execution_count": 265,
   "id": "d8d17c8c-e88f-4778-b6fa-f345cc2d1c26",
   "metadata": {},
   "outputs": [
    {
     "data": {
      "text/plain": [
       "40"
      ]
     },
     "execution_count": 265,
     "metadata": {},
     "output_type": "execute_result"
    }
   ],
   "source": [
    "len(data_train)"
   ]
  },
  {
   "cell_type": "code",
   "execution_count": null,
   "id": "ecea9f6c-729b-4f98-bcfe-5e92bc6c792b",
   "metadata": {},
   "outputs": [],
   "source": []
  }
 ],
 "metadata": {
  "kernelspec": {
   "display_name": "Python 3 (ipykernel)",
   "language": "python",
   "name": "python3"
  },
  "language_info": {
   "codemirror_mode": {
    "name": "ipython",
    "version": 3
   },
   "file_extension": ".py",
   "mimetype": "text/x-python",
   "name": "python",
   "nbconvert_exporter": "python",
   "pygments_lexer": "ipython3",
   "version": "3.8.12"
  }
 },
 "nbformat": 4,
 "nbformat_minor": 5
}
