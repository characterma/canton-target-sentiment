{
 "cells": [
  {
   "cell_type": "code",
   "execution_count": 30,
   "metadata": {},
   "outputs": [
    {
     "name": "stdout",
     "output_type": "stream",
     "text": [
      "The autoreload extension is already loaded. To reload it, use:\n",
      "  %reload_ext autoreload\n"
     ]
    }
   ],
   "source": [
    "%load_ext autoreload\n",
    "%autoreload 2\n",
    "\n",
    "import json\n",
    "import os\n",
    "from pathlib import Path\n",
    "import random\n",
    "# from utils import load_and_split_data, save_data\n",
    "\n",
    "input_dir = Path(os.environ['CANTON_SA_DIR']) / \"data/raw/beauty_cantonese\"\n",
    "# output_dir = Path(os.environ['CANTON_SA_DIR']) / \"data/raw/beauty_cantonese\"\n",
    "# os.listdir(data_dir)"
   ]
  },
  {
   "cell_type": "code",
   "execution_count": 18,
   "metadata": {},
   "outputs": [],
   "source": [
    "\n",
    "def load_and_split_data(paths, train=0.8, dev=0.1, test=0.1):\n",
    "    raw_data = []\n",
    "    for f in paths:\n",
    "        lines = open(f, \"rb\").readlines()\n",
    "        raw_data.extend(lines)\n",
    "    n = len(raw_data)\n",
    "    random.shuffle(raw_data)\n",
    "    return raw_data[:int(train*n)], raw_data[int(train*n):int(train*n) + int(dev*n)], raw_data[int(train*n) + int(dev*n):]\n",
    "\n",
    "def save_data(data, path):\n",
    "    print(f\"saving to {path}\")\n",
    "    file = open(path, 'wb')\n",
    "    for l in data:\n",
    "        file.write(l)\n",
    "    file.close()\n",
    "    "
   ]
  },
  {
   "cell_type": "code",
   "execution_count": null,
   "metadata": {},
   "outputs": [],
   "source": []
  },
  {
   "cell_type": "code",
   "execution_count": 21,
   "metadata": {},
   "outputs": [
    {
     "data": {
      "text/plain": [
       "PosixPath('/root/canton-target-sentiment/data/beauty_cantonese_merged')"
      ]
     },
     "execution_count": 21,
     "metadata": {},
     "output_type": "execute_result"
    }
   ],
   "source": [
    "version = \"merge\"\n",
    "output_dir = Path(os.environ['CANTON_SA_DIR']) / \"data/beauty_cantonese_merged\"\n",
    "output_dir"
   ]
  },
  {
   "cell_type": "code",
   "execution_count": 22,
   "metadata": {},
   "outputs": [
    {
     "name": "stdout",
     "output_type": "stream",
     "text": [
      "saving to /root/canton-target-sentiment/data/beauty_cantonese_merged/train.json\n",
      "saving to /root/canton-target-sentiment/data/beauty_cantonese_merged/dev.json\n",
      "saving to /root/canton-target-sentiment/data/beauty_cantonese_merged/test.json\n"
     ]
    }
   ],
   "source": [
    "paths = [input_dir / f for f in os.listdir(input_dir) if f.endswith(f\"{version}.json\")]\n",
    "train, dev, test = load_and_split_data(paths)\n",
    "save_data(train, output_dir / \"train.json\")\n",
    "save_data(dev, output_dir / \"dev.json\")\n",
    "save_data(test, output_dir / \"test.json\")"
   ]
  },
  {
   "cell_type": "code",
   "execution_count": 23,
   "metadata": {},
   "outputs": [
    {
     "data": {
      "text/plain": [
       "PosixPath('/root/canton-target-sentiment/data/beauty_cantonese_group_a')"
      ]
     },
     "execution_count": 23,
     "metadata": {},
     "output_type": "execute_result"
    }
   ],
   "source": [
    "version = \"a\"\n",
    "output_dir = Path(os.environ['CANTON_SA_DIR']) / \"data/beauty_cantonese_group_a\"\n",
    "output_dir"
   ]
  },
  {
   "cell_type": "code",
   "execution_count": 24,
   "metadata": {},
   "outputs": [
    {
     "name": "stdout",
     "output_type": "stream",
     "text": [
      "saving to /root/canton-target-sentiment/data/beauty_cantonese_group_a/train.json\n",
      "saving to /root/canton-target-sentiment/data/beauty_cantonese_group_a/dev.json\n",
      "saving to /root/canton-target-sentiment/data/beauty_cantonese_group_a/test.json\n"
     ]
    }
   ],
   "source": [
    "paths = [input_dir / f for f in os.listdir(input_dir) if f.endswith(f\"{version}.json\")]\n",
    "train, dev, test = load_and_split_data(paths)\n",
    "save_data(train, output_dir / \"train.json\")\n",
    "save_data(dev, output_dir / \"dev.json\")\n",
    "save_data(test, output_dir / \"test.json\")"
   ]
  },
  {
   "cell_type": "code",
   "execution_count": 25,
   "metadata": {},
   "outputs": [
    {
     "data": {
      "text/plain": [
       "PosixPath('/root/canton-target-sentiment/data/beauty_cantonese_group_b')"
      ]
     },
     "execution_count": 25,
     "metadata": {},
     "output_type": "execute_result"
    }
   ],
   "source": [
    "version = \"b\"\n",
    "output_dir = Path(os.environ['CANTON_SA_DIR']) / \"data/beauty_cantonese_group_b\"\n",
    "output_dir"
   ]
  },
  {
   "cell_type": "code",
   "execution_count": 26,
   "metadata": {},
   "outputs": [
    {
     "name": "stdout",
     "output_type": "stream",
     "text": [
      "saving to /root/canton-target-sentiment/data/beauty_cantonese_group_b/train.json\n",
      "saving to /root/canton-target-sentiment/data/beauty_cantonese_group_b/dev.json\n",
      "saving to /root/canton-target-sentiment/data/beauty_cantonese_group_b/test.json\n"
     ]
    }
   ],
   "source": [
    "paths = [input_dir / f for f in os.listdir(input_dir) if f.endswith(f\"{version}.json\")]\n",
    "train, dev, test = load_and_split_data(paths)\n",
    "save_data(train, output_dir / \"train.json\")\n",
    "save_data(dev, output_dir / \"dev.json\")\n",
    "save_data(test, output_dir / \"test.json\")"
   ]
  },
  {
   "cell_type": "code",
   "execution_count": null,
   "metadata": {},
   "outputs": [],
   "source": []
  }
 ],
 "metadata": {
  "kernelspec": {
   "display_name": "Python 3",
   "language": "python",
   "name": "python3"
  },
  "language_info": {
   "codemirror_mode": {
    "name": "ipython",
    "version": 3
   },
   "file_extension": ".py",
   "mimetype": "text/x-python",
   "name": "python",
   "nbconvert_exporter": "python",
   "pygments_lexer": "ipython3",
   "version": "3.6.9"
  }
 },
 "nbformat": 4,
 "nbformat_minor": 4
}
