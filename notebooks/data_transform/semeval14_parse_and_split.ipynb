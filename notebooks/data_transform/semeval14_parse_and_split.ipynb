{
 "cells": [
  {
   "cell_type": "code",
   "execution_count": 106,
   "metadata": {},
   "outputs": [
    {
     "name": "stdout",
     "output_type": "stream",
     "text": [
      "The autoreload extension is already loaded. To reload it, use:\n",
      "  %reload_ext autoreload\n"
     ]
    },
    {
     "data": {
      "text/plain": [
       "['Laptops_Test_Gold.xml.seg',\n",
       " 'Laptops_Train.xml.seg',\n",
       " 'Restaurants_Test_Gold.xml.seg',\n",
       " 'Restaurants_Train.xml.seg']"
      ]
     },
     "execution_count": 106,
     "metadata": {},
     "output_type": "execute_result"
    }
   ],
   "source": [
    "%load_ext autoreload\n",
    "%autoreload 2\n",
    "\n",
    "import json\n",
    "import os\n",
    "from pathlib import Path\n",
    "import random\n",
    "# from utils import load_and_split_data, save_data\n",
    "\n",
    "input_dir = Path(os.environ['CANTON_SA_DIR']) / \"data/raw/semeval14\"\n",
    "# input_dir = Path(os.environ['CANTON_SA_DIR']) / \"data/raw/acl14\"\n",
    "# output_dir = Path(os.environ['CANTON_SA_DIR']) / \"data/raw/beauty_cantonese\"\n",
    "os.listdir(input_dir)"
   ]
  },
  {
   "cell_type": "code",
   "execution_count": 107,
   "metadata": {},
   "outputs": [
    {
     "data": {
      "text/plain": [
       "'\\n{\"docid\": \"201606053916149\", \"content\": \".......\", \"labels\": [{\"label_name\": \"主體-中性\", \"start_ind\": 63, \"end_ind\": 71, \"text_segment\": \"Shiseido\"}]}\\n'"
      ]
     },
     "execution_count": 107,
     "metadata": {},
     "output_type": "execute_result"
    }
   ],
   "source": [
    "\"\"\"\n",
    "{\"docid\": \"201606053916149\", \"content\": \".......\", \"labels\": [{\"label_name\": \"主體-中性\", \"start_ind\": 63, \"end_ind\": 71, \"text_segment\": \"Shiseido\"}]}\n",
    "\"\"\""
   ]
  },
  {
   "cell_type": "code",
   "execution_count": 108,
   "metadata": {},
   "outputs": [],
   "source": [
    "\n",
    "def load_and_parse(path):\n",
    "    \n",
    "    def parse(sentence, entity, sentiment):\n",
    "        sentence = sentence.strip()\n",
    "        entity = entity.strip()\n",
    "        sentiment = sentiment.strip()\n",
    "        start_idx = sentence.find(\"$T$\")\n",
    "        end_idx = start_idx + len(entity)\n",
    "        sentence = sentence.replace(\"$T$\", entity)\n",
    "        return {\"docid\": \"\", \n",
    "                  \"content\": sentence, \n",
    "                  \"labels\": [{\"label_name\": sentiment, \"start_ind\": start_idx, \"end_ind\": end_idx, \"text_segment\": entity}]}\n",
    "\n",
    "\n",
    "    all_data = []\n",
    "    lines = open(path, \"r\", encoding=\"utf-8\").readlines()\n",
    "    example = []\n",
    "    for i, line in enumerate(lines):\n",
    "        example.append(line)\n",
    "        if (i+1)%3==0:\n",
    "#             print(i, example)\n",
    "            all_data.append(parse(example[0], example[1], example[2]))\n",
    "            example = []\n",
    "\n",
    "    return all_data\n",
    "\n",
    "def save_data(data, path):\n",
    "    print(f\"saving to {path}\")\n",
    "    file = open(path, 'w')\n",
    "    for l in data:\n",
    "        l = json.dumps(l)\n",
    "#         print(type(l))\n",
    "        file.write(l + '\\n')\n",
    "    file.close()\n",
    "    "
   ]
  },
  {
   "cell_type": "code",
   "execution_count": 109,
   "metadata": {},
   "outputs": [],
   "source": [
    "train = load_and_parse(input_dir / \"Laptops_Train.xml.seg\")\n",
    "test = load_and_parse(input_dir / \"Laptops_Test_Gold.xml.seg\")\n",
    "\n",
    "# train = load_and_parse(input_dir / \"Restaurants_Train.xml.seg\")\n",
    "# test = load_and_parse(input_dir / \"Restaurants_Test_Gold.xml.seg\")\n",
    "\n",
    "# train = load_and_parse(input_dir / \"train.raw\")\n",
    "# test = load_and_parse(input_dir / \"test.raw\")\n"
   ]
  },
  {
   "cell_type": "code",
   "execution_count": 110,
   "metadata": {},
   "outputs": [
    {
     "data": {
      "text/plain": [
       "({'docid': '',\n",
       "  'content': 'I charge it at night and skip taking the cord with me because of the good battery life .',\n",
       "  'labels': [{'label_name': '0',\n",
       "    'start_ind': 41,\n",
       "    'end_ind': 45,\n",
       "    'text_segment': 'cord'}]},\n",
       " {'docid': '',\n",
       "  'content': 'I would like to use a different operating system altogether .',\n",
       "  'labels': [{'label_name': '0',\n",
       "    'start_ind': 32,\n",
       "    'end_ind': 48,\n",
       "    'text_segment': 'operating system'}]})"
      ]
     },
     "execution_count": 110,
     "metadata": {},
     "output_type": "execute_result"
    }
   ],
   "source": [
    "train[0], train[-1]"
   ]
  },
  {
   "cell_type": "code",
   "execution_count": 111,
   "metadata": {},
   "outputs": [
    {
     "data": {
      "text/plain": [
       "PosixPath('/root/canton-target-sentiment/data/semeval14_laptops')"
      ]
     },
     "execution_count": 111,
     "metadata": {},
     "output_type": "execute_result"
    }
   ],
   "source": [
    "output_dir = Path(os.environ['CANTON_SA_DIR']) / \"data/semeval14_laptops\"\n",
    "# output_dir = Path(os.environ['CANTON_SA_DIR']) / \"data/semeval14_restaurants\"\n",
    "# output_dir = Path(os.environ['CANTON_SA_DIR']) / \"data/acl14_twitter\"\n",
    "output_dir"
   ]
  },
  {
   "cell_type": "code",
   "execution_count": 112,
   "metadata": {},
   "outputs": [
    {
     "name": "stdout",
     "output_type": "stream",
     "text": [
      "saving to /root/canton-target-sentiment/data/semeval14_laptops/train.json\n",
      "saving to /root/canton-target-sentiment/data/semeval14_laptops/test.json\n"
     ]
    }
   ],
   "source": [
    "\n",
    "save_data(train, output_dir / \"train.json\")\n",
    "save_data(test, output_dir / \"test.json\")"
   ]
  },
  {
   "cell_type": "code",
   "execution_count": null,
   "metadata": {},
   "outputs": [],
   "source": []
  },
  {
   "cell_type": "code",
   "execution_count": null,
   "metadata": {},
   "outputs": [],
   "source": []
  }
 ],
 "metadata": {
  "kernelspec": {
   "display_name": "Python 3",
   "language": "python",
   "name": "python3"
  },
  "language_info": {
   "codemirror_mode": {
    "name": "ipython",
    "version": 3
   },
   "file_extension": ".py",
   "mimetype": "text/x-python",
   "name": "python",
   "nbconvert_exporter": "python",
   "pygments_lexer": "ipython3",
   "version": "3.6.9"
  }
 },
 "nbformat": 4,
 "nbformat_minor": 4
}
